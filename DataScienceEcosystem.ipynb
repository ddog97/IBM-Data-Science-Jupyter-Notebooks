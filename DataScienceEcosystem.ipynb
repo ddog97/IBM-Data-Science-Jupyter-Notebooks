{
 "cells": [
  {
   "cell_type": "markdown",
   "id": "9c76fac1-c9bb-462f-95c6-770ac817edaf",
   "metadata": {},
   "source": [
    "# Data Science Tools and Ecosystem"
   ]
  },
  {
   "cell_type": "markdown",
   "id": "e310ef7f-a1c6-4661-b45c-eb3a67c243b8",
   "metadata": {
    "tags": []
   },
   "source": [
    "## Author\n",
    "Richard Sudjana"
   ]
  },
  {
   "cell_type": "markdown",
   "id": "a654c22c-37ae-4561-aa92-a8cb9a1d10f5",
   "metadata": {},
   "source": [
    "In this notebook, Data Science Tools and Ecosystem are summarized."
   ]
  },
  {
   "cell_type": "markdown",
   "id": "d673e39a-e176-44cf-b208-018228ff956d",
   "metadata": {},
   "source": [
    "__Objectives:__\n",
    "* List of popular languages\n",
    "* List of commonly used libraries\n",
    "* Data science tools\n",
    "* Examples of arithmetic expressions in Python"
   ]
  },
  {
   "cell_type": "markdown",
   "id": "1b731830-f49f-4d02-8164-236295110ae6",
   "metadata": {},
   "source": [
    "Some of the popular languages that Data Scientists use are:\n",
    "1. Python\n",
    "2. R\n",
    "3. Javascript"
   ]
  },
  {
   "cell_type": "markdown",
   "id": "b42c0835-3f1b-40a8-8e1a-214fe5a1bf48",
   "metadata": {},
   "source": [
    "Some of the commonly used libraries used by Data Scientists include:\n",
    "1. NumPy\n",
    "2. Pandas\n",
    "3. Matplotlib"
   ]
  },
  {
   "cell_type": "markdown",
   "id": "4c34b847-165a-4cbb-8f8e-b3ac6cbb819e",
   "metadata": {},
   "source": [
    "|Data Science Tools|\n",
    "|---|\n",
    "|Jupyter Notebooks|\n",
    "|RStudio|\n",
    "|Github"
   ]
  },
  {
   "cell_type": "markdown",
   "id": "15756aa3-5a69-48ba-bfa7-adeecdd6f7a1",
   "metadata": {},
   "source": [
    "### Below are a few examples of evaluating arithmetic expressions in Python"
   ]
  },
  {
   "cell_type": "code",
   "execution_count": 1,
   "id": "ea302de2-7730-4476-9637-1726f6d57372",
   "metadata": {
    "tags": []
   },
   "outputs": [],
   "source": [
    "#  This a simple arithmetic expression to mutiply then add integers."
   ]
  },
  {
   "cell_type": "code",
   "execution_count": 2,
   "id": "3fe01dd7-682d-41e4-a099-0c58ad2cff5f",
   "metadata": {
    "tags": []
   },
   "outputs": [
    {
     "data": {
      "text/plain": [
       "17"
      ]
     },
     "execution_count": 2,
     "metadata": {},
     "output_type": "execute_result"
    }
   ],
   "source": [
    "(3*4)+5"
   ]
  },
  {
   "cell_type": "code",
   "execution_count": 4,
   "id": "de420b4d-de4e-4680-bc76-9c8d4b31c7c4",
   "metadata": {
    "tags": []
   },
   "outputs": [],
   "source": [
    "# This will convert 200 minutes to hours by diving by 60."
   ]
  },
  {
   "cell_type": "code",
   "execution_count": 12,
   "id": "737a5d8e-87ce-4ff5-b49b-294f9d3ba20c",
   "metadata": {
    "tags": []
   },
   "outputs": [
    {
     "name": "stdout",
     "output_type": "stream",
     "text": [
      "3.3333333333333335\n"
     ]
    }
   ],
   "source": [
    "minutes = 200\n",
    "hour = 60\n",
    "conversion = minutes/hour\n",
    "print(conversion)"
   ]
  }
 ],
 "metadata": {
  "kernelspec": {
   "display_name": "Python",
   "language": "python",
   "name": "conda-env-python-py"
  },
  "language_info": {
   "codemirror_mode": {
    "name": "ipython",
    "version": 3
   },
   "file_extension": ".py",
   "mimetype": "text/x-python",
   "name": "python",
   "nbconvert_exporter": "python",
   "pygments_lexer": "ipython3",
   "version": "3.7.12"
  }
 },
 "nbformat": 4,
 "nbformat_minor": 5
}
